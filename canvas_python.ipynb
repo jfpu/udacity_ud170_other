{
 "cells": [
  {
   "cell_type": "code",
   "execution_count": 2,
   "metadata": {},
   "outputs": [
    {
     "name": "stdout",
     "output_type": "stream",
     "text": [
      "OrderedDict([('account_key', '448'), ('status', 'canceled'), ('join_date', '2014-11-10'), ('cancel_date', '2015-01-14'), ('days_to_cancel', '65'), ('is_udacity', 'True'), ('is_canceled', 'True')])\n",
      "----\n",
      "OrderedDict([('account_key', '0'), ('utc_date', '2015-01-09'), ('num_courses_visited', '1.0'), ('total_minutes_visited', '11.6793745'), ('lessons_completed', '0.0'), ('projects_completed', '0.0')])\n",
      "----\n",
      "OrderedDict([('creation_date', '2015-01-14'), ('completion_date', '2015-01-16'), ('assigned_rating', 'UNGRADED'), ('account_key', '256'), ('lesson_key', '3176718735'), ('processing_state', 'EVALUATED')])\n"
     ]
    }
   ],
   "source": [
    "import unicodecsv as csv\n",
    "\n",
    "# Latihan 1: fungsi convert csv ke dictonary\n",
    "def csv_importer(filename):\n",
    "    with open(filename, 'rb') as f:\n",
    "        reader = csv.DictReader(f)\n",
    "        return list(reader)\n",
    "\n",
    "enrollments = csv_importer('enrollments.csv')\n",
    "daily_engagement = csv_importer('daily_engagement.csv')\n",
    "project_submissions = csv_importer('project_submissions.csv')\n",
    "\n",
    "print(enrollments[0])\n",
    "print('----')\n",
    "print(daily_engagement[0])\n",
    "print('----')\n",
    "print(project_submissions[0])"
   ]
  },
  {
   "cell_type": "code",
   "execution_count": 4,
   "metadata": {},
   "outputs": [
    {
     "name": "stdout",
     "output_type": "stream",
     "text": [
      "1640\n",
      "136240\n",
      "3642\n",
      "----------\n",
      "1302\n",
      "1237\n",
      "743\n",
      "0\n"
     ]
    }
   ],
   "source": [
    "def count_unique_enrolled_students(list_of_dict, unique_key):\n",
    "    unique_enrolled_students = set()\n",
    "    for row in list_of_dict:\n",
    "        unique_enrolled_students.add(row[unique_key])\n",
    "\n",
    "    return len(unique_enrolled_students)\n",
    "\n",
    "\n",
    "print(len(enrollments))\n",
    "print(len(daily_engagement))\n",
    "print(len(project_submissions))\n",
    "print('----------')\n",
    "print(count_unique_enrolled_students(enrollments, 'account_key'))\n",
    "print(count_unique_enrolled_students(daily_engagement, 'account_key'))\n",
    "print(count_unique_enrolled_students(project_submissions, 'account_key'))\n",
    "print(daily_engagement[0]['account_key'])"
   ]
  },
  {
   "cell_type": "code",
   "execution_count": null,
   "metadata": {
    "collapsed": true
   },
   "outputs": [],
   "source": []
  }
 ],
 "metadata": {
  "kernelspec": {
   "display_name": "Python 3",
   "language": "python",
   "name": "python3"
  },
  "language_info": {
   "codemirror_mode": {
    "name": "ipython",
    "version": 3
   },
   "file_extension": ".py",
   "mimetype": "text/x-python",
   "name": "python",
   "nbconvert_exporter": "python",
   "pygments_lexer": "ipython3",
   "version": "3.6.3"
  }
 },
 "nbformat": 4,
 "nbformat_minor": 1
}
